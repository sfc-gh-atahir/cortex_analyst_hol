{
 "metadata": {
  "kernelspec": {
   "display_name": "Streamlit Notebook",
   "name": "streamlit"
  }
 },
 "nbformat_minor": 5,
 "nbformat": 4,
 "cells": [
  {
   "cell_type": "code",
   "id": "04ee9efa-9c11-45fa-a3f2-0696c770ca06",
   "metadata": {
    "language": "sql",
    "name": "Create_Fact_Table_daily_revenue",
    "collapsed": false,
    "resultHeight": 112
   },
   "outputs": [],
   "source": "USE ROLE CORTEX_USER_ROLE;\nUSE DATABASE cortex_analyst_demo;\nUSE SCHEMA cortex_analyst_demo.revenue_timeseries;\n\n-- Fact table: daily_revenue\nCREATE OR REPLACE TABLE cortex_analyst_demo.revenue_timeseries.daily_revenue (\n    date DATE,\n    revenue FLOAT,\n    cogs FLOAT,\n    forecasted_revenue FLOAT,\n    product_id INT,\n    region_id INT\n);",
   "execution_count": null
  },
  {
   "cell_type": "code",
   "id": "cff37ae1-11b3-4cff-b793-c8e19c8ff6b3",
   "metadata": {
    "language": "sql",
    "name": "Create_Dimension_Table_product_dim",
    "collapsed": false,
    "resultHeight": 112
   },
   "outputs": [],
   "source": "USE ROLE CORTEX_USER_ROLE;\nUSE DATABASE cortex_analyst_demo;\nUSE SCHEMA cortex_analyst_demo.revenue_timeseries;\n\n-- Dimension table: product_dim\nCREATE OR REPLACE TABLE cortex_analyst_demo.revenue_timeseries.product_dim (\n    product_id INT,\n    product_line VARCHAR(16777216)\n);",
   "execution_count": null
  },
  {
   "cell_type": "code",
   "id": "093dd6cb-1622-4e7c-b43d-e9aa110a9c91",
   "metadata": {
    "language": "sql",
    "name": "Create_Dimension_Table_region_dim",
    "collapsed": false,
    "resultHeight": 112
   },
   "outputs": [],
   "source": "USE ROLE CORTEX_USER_ROLE;\nUSE DATABASE cortex_analyst_demo;\nUSE SCHEMA cortex_analyst_demo.revenue_timeseries;\n\n-- Dimension table: region_dim\nCREATE OR REPLACE TABLE cortex_analyst_demo.revenue_timeseries.region_dim (\n    region_id INT,\n    sales_region VARCHAR(16777216),\n    state VARCHAR(16777216)\n);",
   "execution_count": null
  },
  {
   "cell_type": "markdown",
   "id": "ba7e97c1-f5c9-42d6-a967-a3ea7d9b961f",
   "metadata": {
    "name": "cell9",
    "collapsed": false,
    "resultHeight": 294
   },
   "source": "**Importing Libraries**\n- [Snowpark Pandas](https://docs.snowflake.com/developer-guide/snowpark/python/pandas-on-snowflake?_fsi=10ufziXM&_fsi=10ufziXM&_fsi=10ufziXM#how-pandas-on-snowflake-compares-to-native-pandas) lets developers run their pandas code directly on their data in Snowflake. Users will be able to get the same pandas-native experience they know and love with Snowflake's performance, scale and governance.The Snowpark pandas API is available as part of the Snowpark Python package (version 1.17 and above). Snowpark Python comes pre-installed with the Snowflake Notebooks environment. Additionally, you will need to add the modin package in the Packages dropdown.\n\n\n- [Streamlit](https://docs.snowflake.com/en/user-guide/ui-snowsight/notebooks-visualize-data#label-notebooks-visualize-cells-streamlit) Streamlit is an open-source Python library that makes it easy to create and share custom web apps for machine learning, data science and analytics. By using Streamlit you can quickly build and deploy powerful data applications. For more information about the open-source library, see the [Streamlit Library documentation](https://docs.streamlit.io/).\n\n- [Matplotlib](https://matplotlib.org/) Matplotlib is a comprehensive library for creating static, animated, and interactive visualizations in Python."
  },
  {
   "cell_type": "code",
   "id": "c8156ad5-9f75-48dd-b0de-cdda8f9ad65f",
   "metadata": {
    "language": "python",
    "name": "import_snowpark_pandas_library",
    "collapsed": false,
    "resultHeight": 0
   },
   "outputs": [],
   "source": "# Import the Snowpark pandas plugin for modin\nimport snowflake.snowpark.modin.plugin\nimport modin.pandas as pd\n\nimport matplotlib.pyplot as plt\nimport streamlit as st\nimport matplotlib.ticker as ticker\nimport matplotlib.dates as mdates\n\n# Import Snowpark session\nfrom snowflake.snowpark.context import get_active_session\n",
   "execution_count": null
  },
  {
   "cell_type": "markdown",
   "id": "17f53dc8-a380-40df-a97d-055350774a73",
   "metadata": {
    "name": "cell11",
    "collapsed": false,
    "resultHeight": 41
   },
   "source": "**Getting active Snowflake session and set current schema**"
  },
  {
   "cell_type": "code",
   "id": "8f0c3322-9012-4461-af5f-6c1f1b600599",
   "metadata": {
    "language": "python",
    "name": "get_session_set_schema",
    "collapsed": false,
    "resultHeight": 0
   },
   "outputs": [],
   "source": "# Retrieve the Session\nsession = get_active_session()\n\n# Set context\nsession.use_schema('cortex_analyst_demo.revenue_timeseries')\nsession.use_role('CORTEX_USER_ROLE')",
   "execution_count": null
  },
  {
   "cell_type": "markdown",
   "id": "7da5dcc8-0a24-4d7c-9c5a-1512efb264f3",
   "metadata": {
    "name": "cell10",
    "collapsed": false,
    "resultHeight": 140
   },
   "source": "**Loading data csv files from raw_data stage**\n- daily_revenue.csv\n- product.csv\n- region.csv"
  },
  {
   "cell_type": "code",
   "id": "e19d1402-d70a-4a9d-87be-a1f9a20ae334",
   "metadata": {
    "language": "python",
    "name": "Load_data_from_csv_files",
    "collapsed": false,
    "resultHeight": 0,
    "codeCollapsed": false
   },
   "outputs": [],
   "source": "df_d_rev = pd.read_csv('@RAW_DATA/daily_revenue.csv')\ndf_prod = pd.read_csv('@RAW_DATA/product.csv')\ndf_reg = pd.read_csv('@RAW_DATA/region.csv')",
   "execution_count": null
  },
  {
   "cell_type": "markdown",
   "id": "af2d3e11-1705-4069-b649-7369d3950827",
   "metadata": {
    "name": "cell3",
    "collapsed": false,
    "resultHeight": 41
   },
   "source": "**Ploting Total revenue by Product Id for all time**"
  },
  {
   "cell_type": "code",
   "id": "c9f0e2a0-da6a-4123-920f-4c687b4d6db3",
   "metadata": {
    "language": "python",
    "name": "total_revenue_by_product_id",
    "resultHeight": 909,
    "collapsed": false
   },
   "outputs": [],
   "source": "df_region_sum = df_d_rev.groupby('Product_id')['REVENUE'].sum()\n\nax = df_region_sum.plot.bar()\nax.set_xlabel('Product Id')\nax.set_ylabel('Total Revenue')\n\nformatter = ticker.StrMethodFormatter('${x:,.0f}')\nax.yaxis.set_major_formatter(formatter)\n\nplt.show()",
   "execution_count": null
  },
  {
   "cell_type": "markdown",
   "id": "bae15fc5-c3d7-45f5-8d1d-a46d1106f1dc",
   "metadata": {
    "name": "cell8",
    "collapsed": false,
    "resultHeight": 41
   },
   "source": "**Ploting Total revenue by Product Name for all time**"
  },
  {
   "cell_type": "code",
   "id": "07abefed-702a-4efa-9289-2ae5d524a704",
   "metadata": {
    "language": "python",
    "name": "total_revenue_by_product_name",
    "resultHeight": 1144,
    "collapsed": false
   },
   "outputs": [],
   "source": "# Join the the product dataset with daily revenue data set to get Product Names\ndf_total_p_line_rev = df_d_rev.join(df_prod.set_index('Product_id'), \n                                    on='Product_id').groupby('Product_line')['REVENUE'].sum()\n\nax = df_total_p_line_rev.plot.bar()\nax.set_xlabel('Product')\nax.set_ylabel('Total Revenue')\n\nformatter = ticker.StrMethodFormatter('${x:,.0f}')\nax.yaxis.set_major_formatter(formatter)\n\nplt.show()",
   "execution_count": null
  },
  {
   "cell_type": "markdown",
   "id": "49e5dbcd-1fea-4798-ab2b-1aebb6a9974c",
   "metadata": {
    "name": "cell13",
    "collapsed": false,
    "resultHeight": 41
   },
   "source": "**Show the difference in actual vs forecasted revenue for the first 10 records**"
  },
  {
   "cell_type": "code",
   "id": "c5365d0c-61c9-48bc-9a24-5d98fa94d1c4",
   "metadata": {
    "language": "python",
    "name": "revenue_difference_actual_vs_forecasted_10_rows",
    "resultHeight": 983,
    "collapsed": false
   },
   "outputs": [],
   "source": "df_d_rev_sub = df_d_rev['DATE', 'REVENUE', 'FORECASTED_REVENUE']\n\ndf_d_rev_sub['DIFF'] =  df_d_rev_sub['REVENUE'] - df_d_rev_sub['FORECASTED_REVENUE']\n\n# Take last 10 records\ndf_d_rev_sub_10 = df_d_rev_sub.set_index('DATE').head(10)\n\nax = df_d_rev_sub_10['DIFF'].plot.bar()\n\nformatter_date = mdates.DateFormatter('%m/%d')\nax.xaxis.set_major_formatter(formatter_date)\n\nformatter = ticker.StrMethodFormatter('${x:,.0f}')\nax.yaxis.set_major_formatter(formatter)\n\nax.set_xlabel('Date')\nax.set_ylabel('Difference in Revenue vs Forecast')\n\nplt.show()",
   "execution_count": null
  },
  {
   "cell_type": "markdown",
   "id": "6f207068-1bdc-4c2b-9a52-447f1faafc73",
   "metadata": {
    "name": "cell12",
    "collapsed": false,
    "resultHeight": 41
   },
   "source": "**We are going to use to_snowflake() function to save our dataset to tables in Snowflake**"
  },
  {
   "cell_type": "code",
   "id": "cc87d976-e0a8-4ba0-a068-c6983523cbd7",
   "metadata": {
    "language": "python",
    "name": "save_data_to_SF_tables",
    "collapsed": false,
    "resultHeight": 0
   },
   "outputs": [],
   "source": "# Save data to region_dim table\ndf_reg.to_snowflake(\n    name = 'cortex_analyst_demo.revenue_timeseries.region_dim',\n    if_exists='append',\n    index=False\n)\n\n# Save data to product_dim table\ndf_prod.to_snowflake(\n    name = 'cortex_analyst_demo.revenue_timeseries.product_dim',\n    if_exists='append',\n    index=False\n)\n\ndf_d_rev.to_snowflake(\n    name = 'cortex_analyst_demo.revenue_timeseries.daily_revenue',\n    if_exists='append',\n    index=False\n)\n",
   "execution_count": null
  },
  {
   "cell_type": "markdown",
   "id": "4d19447b-8e8e-4bbf-bba1-c1ac7a313723",
   "metadata": {
    "name": "cell14",
    "collapsed": false,
    "resultHeight": 41
   },
   "source": "**Query daily_revenue table to see first 10 rows**"
  },
  {
   "cell_type": "code",
   "id": "3d8e6a98-03f2-4cd8-bb52-9ac240d69b43",
   "metadata": {
    "language": "sql",
    "name": "check_loaded_data",
    "collapsed": false,
    "resultHeight": 427
   },
   "outputs": [],
   "source": "select * from cortex_analyst_demo.revenue_timeseries.daily_revenue limit 10;",
   "execution_count": null
  },
  {
   "cell_type": "markdown",
   "id": "209b4dfd-af49-42c3-90eb-2021129f2de6",
   "metadata": {
    "name": "cell1",
    "collapsed": false,
    "resultHeight": 580
   },
   "source": "### Integrate Cortex Search\nWe will integrate Cortex Search as a way to improve literal string searches to help Cortex Analyst generate more accurate SQL queries.\n![Cortex Search](https://docs.snowflake.com/_images/cortex-search-rag.png)"
  },
  {
   "cell_type": "code",
   "id": "ef7ce168-5499-4b43-8bf6-6c4b4a106b8d",
   "metadata": {
    "language": "sql",
    "name": "create_cortex_search",
    "resultHeight": 112,
    "collapsed": false,
    "codeCollapsed": false
   },
   "outputs": [],
   "source": "USE ROLE CORTEX_USER_ROLE;\nUSE DATABASE cortex_analyst_demo;\nUSE SCHEMA revenue_timeseries;\n\n  CREATE OR REPLACE CORTEX SEARCH SERVICE product_line_search_service\n  ON product_dimension\n  WAREHOUSE = cortex_analyst_wh\n  TARGET_LAG = '1 hour'\n  AS (\n        SELECT DISTINCT product_line AS product_dimension FROM product_dim\n      );",
   "execution_count": null
  },
  {
   "cell_type": "markdown",
   "id": "c8f94130-601d-4998-8ef8-999f86e044ad",
   "metadata": {
    "name": "cell2",
    "collapsed": false,
    "resultHeight": 725
   },
   "source": "### What is a Sementic Model?\nA semantic model is a conceptual data model that describes the meaning and relationships between data elements, essentially translating raw data into a business-friendly structure by defining how data is related to the real world, allowing for easier analysis and interpretation.\n\n### Why use Semantic Models?\nCortex Analyst allows users to ask questions about Snowflake data using natural language. Typically there is a gap between the vocabulary used by business users when asking data questions and the vocabulary used in the database schema. These users typically use business or domain specific terms, whereas the database schema may use abbreviations or terms often used in ETL pipelines.\n\n![Cortex Analyst](https://raw.githubusercontent.com/fahadaz/cortex_analyst_hol/refs/heads/main/images/cortex_analyst_architecture.jpeg)\n"
  },
  {
   "cell_type": "markdown",
   "id": "f2fdbfbf-9742-4da7-aee9-db85abae5899",
   "metadata": {
    "name": "cell5",
    "collapsed": false,
    "resultHeight": 1755
   },
   "source": "### Semantic Model Details\nThe semantic model file **[revenue_timeseries.yaml](https://github.com/fahadaz/cortex_analyst_hol/blob/main/data/revenue_timeseries.yaml)** is the key that unlocks Cortex Analyst's power. This YAML file dictates the tables, columns, etc. that Analyst can use in order to run queries that answer natural-language questions Let's talk a little about the details of this file:\n\nThe Semantic Model is composed of a number of different fields that help Cortex Analyst understand the specifics of your data:\n\n- Logical Tables which are composed of Logical Columns\n- Logical Columns which are one of dimensions, time_dimensions, or measures\n- Relationships that exist between tables to allow for JOINS\n\nLogical Tables are relatively straightforward- these are tables or views within a database. That's it! Pretty simple\n\nLogical Columns get a bit more complicated; a logical column can reference an underlying physical column in a table, or it can be a expression containing one or more physical columns. So, for example, in the **[revenue_timeseries.yaml](https://github.com/fahadaz/cortex_analyst_hol/blob/main/data/revenue_timeseries.yaml)**, we have a simple logical column **daily_revenue** that is a physical column. In the **daily_revenue** measure definition, you'll notice that we provide a description, as well as synonyms, data_type, and a default_aggregation, but no **expr** parameter. This is because revenue is simply a physical column in the **daily_revenue** table:\n\n```\nmeasures:\n    - name: daily_revenue\n        expr: revenue\n        description: total revenue for the given day\n        synonyms: [\"sales\", \"income\"]\n        default_aggregation: sum\n        data_type: number\n```\nIn contrast, we define a different measure daily_profit which is not in fact a physical column, but rather an expression of the difference between the revenue and cogs physical columns:\n\n```\n- name: daily_profit\n    description: profit is the difference between revenue and expenses.\n    expr: revenue - cogs\n    data_type: number\n```\n\nIn the semantic model, time_dimensions specifically capture temporal features of the data, and dimensions are not quantitative fields (e.g. quantitative fields are measures, while categorical fields are dimensions).\n\nAn example time_dimension:\n```\ntime_dimensions:\n    - name: date\n    expr: date\n    description: date with measures of revenue, COGS, and forecasted revenue for each product line\n    unique: false\n    data_type: date\n```\nAn example relationship:\n\n```\nrelationships:\n  - name: revenue_to_product\n    left_table: daily_revenue\n    right_table: product\n    relationship_columns:\n      - left_column: product_id\n        right_column: product_id\n    join_type: left_outer\n    relationship_type: many_to_one\n```\n\nWhen generating the semantic model, think from the end user perspective:\n\n- For business user, accuracy and trust is the paramount\n- Organize your YAML file in the unit of business domain/topic\n- If you are trying to pull a snippet of this data into excel for your business stakeholder, what are the tabs and columns you'd keep? - - - What are the column namings you'd use?\n- Use above to guide your selection of tables and columns. Err on the side of only including necessary columns.\n- We recommend not exceeding 3-5 tables, 10-20 columns each table to start.\n\nFor more information about the semantic model, please refer to the [documentation](https://docs.snowflake.com/en/user-guide/snowflake-cortex/cortex-analyst/semantic-model-spec)."
  },
  {
   "cell_type": "code",
   "id": "af4d8d58-f1a9-480f-a9db-5c8dc74b2558",
   "metadata": {
    "language": "python",
    "name": "question_for_analyst",
    "collapsed": false,
    "resultHeight": 0
   },
   "outputs": [],
   "source": "question = 'What was the total revenue broken by product for all time?'",
   "execution_count": null
  },
  {
   "cell_type": "code",
   "id": "42784c9b-a49a-46d8-9564-7f2baf133de6",
   "metadata": {
    "language": "python",
    "name": "call_analyst_service",
    "collapsed": false,
    "resultHeight": 1503
   },
   "outputs": [],
   "source": "\"\"\"\nCortex Analyst App\n====================\nThis app allows users to interact with their data using natural language.\n\"\"\"\n\nimport json  # To handle JSON data\n\nimport _snowflake  # For interacting with Snowflake-specific APIs\nimport streamlit as st  # Streamlit library for building the web app\nfrom snowflake.snowpark.context import (\n    get_active_session,\n) \n\n\nAPI_ENDPOINT = \"/api/v2/cortex/analyst/message\"\nAPI_TIMEOUT = 50000  # in milliseconds\n\n\n# Initialize a Snowpark session for executing queries\nsession = get_active_session()\n\n\"\"\"\n    Send chat history to the Cortex Analyst API and return the response.\n\n    Args:\n        messages (List[Dict]): The conversation history.\n\n    Returns:\n        Optional[Dict]: The response from the Cortex Analyst API.\n\"\"\"\n# Prepare the request body with the user's prompt\nrequest_body = {\n    \"messages\": [\n        {\n            \"role\": \"user\",\n            \"content\": [\n                {\n                    \"type\": \"text\",\n                    \"text\": question\n                }\n            ]\n        },\n    ],\n    \"semantic_model_file\": \"@CORTEX_ANALYST_DEMO.REVENUE_TIMESERIES.RAW_DATA/revenue_timeseries.yaml\",\n}\n\n# Send a POST request to the Cortex Analyst API endpoint\n# Adjusted to use positional arguments as per the API's requirement\nresp = _snowflake.send_snow_api_request(\n        \"POST\",  # method\n        API_ENDPOINT,  # path\n        {},  # headers\n        {},  # params\n        request_body,  # body\n        None,  # request_guid\n        API_TIMEOUT,  # timeout in milliseconds\n    )\n\n# Content is a string with serialized JSON object\nparsed_content = json.loads(resp[\"content\"])\n\nst.json(parsed_content)",
   "execution_count": null
  },
  {
   "cell_type": "code",
   "id": "5e56cdef-77d1-4d29-81de-e0d537d93caf",
   "metadata": {
    "language": "sql",
    "name": "execute_sql_generated_by_analyst_service",
    "collapsed": false,
    "resultHeight": 0
   },
   "outputs": [],
   "source": "WITH __daily_revenue AS (\n  SELECT\n    product_id,\n    revenue AS daily_revenue\n  FROM cortex_analyst_demo.revenue_timeseries.daily_revenue\n), __product AS (\n  SELECT\n    product_id,\n    product_line\n  FROM cortex_analyst_demo.revenue_timeseries.product_dim\n)\nSELECT\n  p.product_line,\n  SUM(dr.daily_revenue) AS total_revenue\nFROM __daily_revenue AS dr\nLEFT OUTER JOIN __product AS p\n  ON dr.product_id = p.product_id\nGROUP BY\n  p.product_line\nORDER BY\n  total_revenue DESC NULLS LAST\n -- Generated by Cortex Analyst\n;",
   "execution_count": null
  }
 ]
}